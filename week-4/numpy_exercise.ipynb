{
 "cells": [
  {
   "cell_type": "code",
   "execution_count": 1,
   "id": "b9d63b1e-62f6-4e32-a110-f0d099051946",
   "metadata": {},
   "outputs": [],
   "source": [
    "import numpy as np"
   ]
  },
  {
   "cell_type": "code",
   "execution_count": 2,
   "id": "ff44cd6f-6ffd-40af-a2b6-c1f3a7b68cdb",
   "metadata": {},
   "outputs": [
    {
     "name": "stdout",
     "output_type": "stream",
     "text": [
      "[60 58 67]\n"
     ]
    }
   ],
   "source": [
    "pollution_data = np.array([[45, 65, 70], [55, 60, 50], [60, 58, 67]])\n",
    "\n",
    "most_polluted_day_index = np.argmax(pollution_data.mean(axis=1))\n",
    "\n",
    "print(pollution_data[most_polluted_day_index])"
   ]
  },
  {
   "cell_type": "code",
   "execution_count": 3,
   "id": "1102c757-60be-4f8e-b140-df87dfbd2073",
   "metadata": {},
   "outputs": [
    {
     "name": "stdout",
     "output_type": "stream",
     "text": [
      "11000\n"
     ]
    }
   ],
   "source": [
    "forest_coverage = np.array([70, 80, 65, 90, 85])\n",
    "\n",
    "total_forest_cover_lost = (100 - forest_coverage).sum() * 100\n",
    "\n",
    "print(total_forest_cover_lost)"
   ]
  },
  {
   "cell_type": "code",
   "execution_count": 4,
   "id": "5fd09468-eb7d-4f22-95bc-4aa7b474707d",
   "metadata": {},
   "outputs": [
    {
     "name": "stdout",
     "output_type": "stream",
     "text": [
      "1\n"
     ]
    }
   ],
   "source": [
    "water_quality = np.array([[7.8, 6.5, 8.0], [5.4, 7.2, 6.5]])\n",
    "\n",
    "worst_water_quality_index = np.argmin(water_quality.mean(axis=1))\n",
    "\n",
    "print(worst_water_quality_index)"
   ]
  },
  {
   "cell_type": "code",
   "execution_count": 5,
   "id": "8779c9ec-09af-4fac-a0b9-fa6835503a44",
   "metadata": {},
   "outputs": [
    {
     "name": "stdout",
     "output_type": "stream",
     "text": [
      "2\n"
     ]
    }
   ],
   "source": [
    "animal_sightings = np.array([[5, 7, 8], [3, 4, 6], [9, 10, 7]])\n",
    "\n",
    "highest_sightings_region_index = np.argmax(animal_sightings.mean(axis=1))\n",
    "\n",
    "print(highest_sightings_region_index)"
   ]
  },
  {
   "cell_type": "code",
   "execution_count": 6,
   "id": "5dee9e91-5fb7-41e2-84e0-091bbd2a3614",
   "metadata": {},
   "outputs": [
    {
     "name": "stdout",
     "output_type": "stream",
     "text": [
      "[19 27 21 27]\n"
     ]
    }
   ],
   "source": [
    "bird_sightings = np.array([3, 4, 2, 5, 1, 0, 4, 3, 5, 2, 1, 7, 8, 1, 2, 3, 4, 1, 0, 5, 6, 2, 3, 4, 1, 4, 6, 7])\n",
    "\n",
    "reshaped_sightings = bird_sightings.reshape(4, 7)\n",
    "total_sightings_per_week = reshaped_sightings.sum(axis=1)\n",
    "\n",
    "print(total_sightings_per_week)"
   ]
  },
  {
   "cell_type": "code",
   "execution_count": 7,
   "id": "7cfb56be-90c3-4fb5-83eb-36f9ed27eb1d",
   "metadata": {},
   "outputs": [
    {
     "name": "stdout",
     "output_type": "stream",
     "text": [
      "[[22 25 28 30 27 25 23 24 22 20 18 22]\n",
      " [50 43 35 20 25 30 40 55 60 65 70 58]]\n",
      "23.833333333333332\n",
      "45.916666666666664\n"
     ]
    }
   ],
   "source": [
    "climate_data = np.array([[22, 50], [25, 43], [28, 35], [30, 20], [27, 25], [25, 30], [23, 40], [24, 55], [22, 60], [20, 65], [18, 70], [22, 58]])\n",
    "\n",
    "transposed_climate_data = climate_data.transpose()\n",
    "print(transposed_climate_data)\n",
    "\n",
    "average_temperature = transposed_climate_data[0].mean()\n",
    "average_precipitation = transposed_climate_data[1].mean()\n",
    "\n",
    "print(average_temperature)\n",
    "print(average_precipitation)"
   ]
  }
 ],
 "metadata": {
  "kernelspec": {
   "display_name": "Python 3 (ipykernel)",
   "language": "python",
   "name": "python3"
  },
  "language_info": {
   "codemirror_mode": {
    "name": "ipython",
    "version": 3
   },
   "file_extension": ".py",
   "mimetype": "text/x-python",
   "name": "python",
   "nbconvert_exporter": "python",
   "pygments_lexer": "ipython3",
   "version": "3.12.9"
  }
 },
 "nbformat": 4,
 "nbformat_minor": 5
}
